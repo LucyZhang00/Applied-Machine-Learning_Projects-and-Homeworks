{
 "cells": [
  {
   "cell_type": "markdown",
   "metadata": {
    "id": "mkiYBKTBFV-Z"
   },
   "source": [
    "## Homework 3\n",
    "### Part 1: Imbalanced Dataset\n",
    "\n",
    "- In this homework, you will be working with an imbalanced Dataset. \n",
    "- The dataset is Credit Card Fraud Detection dataset which was hosted on Kaggle. \n",
    "- The aim is to detect fraudlent transactions."
   ]
  },
  {
   "cell_type": "markdown",
   "metadata": {
    "id": "QXjHDwbBGaYB"
   },
   "source": [
    "### Instructions\n",
    "\n",
    "1) Please push the .ipynb and .pdf to Github Classroom prior to the deadline, .py file is optional (not needed).<br>\n",
    "2) Please include your Name and UNI below."
   ]
  },
  {
   "cell_type": "markdown",
   "metadata": {
    "id": "pDX_llUa7d7n"
   },
   "source": [
    "### Name: Lucy Zhang\n",
    "### UNI: xz3141"
   ]
  },
  {
   "cell_type": "markdown",
   "metadata": {
    "id": "yCpeRNO9GjyP"
   },
   "source": [
    "### Setup"
   ]
  },
  {
   "cell_type": "code",
   "execution_count": 1,
   "metadata": {
    "id": "UB0aoX-eGX0X"
   },
   "outputs": [],
   "source": [
    "import numpy as np\n",
    "import pandas as pd\n",
    "import matplotlib.pyplot as plt\n",
    "import seaborn as sns"
   ]
  },
  {
   "cell_type": "code",
   "execution_count": null,
   "metadata": {
    "id": "f25EsV59GmeU"
   },
   "outputs": [],
   "source": [
    "# Feel free to import any other packages you need"
   ]
  },
  {
   "cell_type": "markdown",
   "metadata": {
    "id": "s6DdcyXWGtHm"
   },
   "source": [
    "### **Data Preprocessing and Exploration**.\n",
    "- Download the Kaggle Credit Card Fraud data set.<br>\n",
    "- Features V1, V2, … V27, V28 are the principal components obtained with PCA, the only features which have not been transformed with PCA are 'Time' and 'Amount'.<br>\n",
    "- Feature 'Time' contains the seconds elapsed between each transaction and the first transaction in the dataset. <br>\n",
    "- The feature 'Amount' is the transaction Amount, this feature can be used for example-dependant cost-sensitive learning.<br>\n",
    "- Feature 'Class' is the response variable and it takes value 1 in case of fraud and 0 otherwise."
   ]
  },
  {
   "cell_type": "code",
   "execution_count": 2,
   "metadata": {
    "colab": {
     "base_uri": "https://localhost:8080/",
     "height": 300
    },
    "id": "gzbL79SLGwTc",
    "outputId": "a7334725-a6ff-41ab-a78f-fbd79053352b"
   },
   "outputs": [
    {
     "data": {
      "text/html": [
       "<div>\n",
       "<style scoped>\n",
       "    .dataframe tbody tr th:only-of-type {\n",
       "        vertical-align: middle;\n",
       "    }\n",
       "\n",
       "    .dataframe tbody tr th {\n",
       "        vertical-align: top;\n",
       "    }\n",
       "\n",
       "    .dataframe thead th {\n",
       "        text-align: right;\n",
       "    }\n",
       "</style>\n",
       "<table border=\"1\" class=\"dataframe\">\n",
       "  <thead>\n",
       "    <tr style=\"text-align: right;\">\n",
       "      <th></th>\n",
       "      <th>Time</th>\n",
       "      <th>V1</th>\n",
       "      <th>V2</th>\n",
       "      <th>V3</th>\n",
       "      <th>V4</th>\n",
       "      <th>V5</th>\n",
       "      <th>V6</th>\n",
       "      <th>V7</th>\n",
       "      <th>V8</th>\n",
       "      <th>V9</th>\n",
       "      <th>...</th>\n",
       "      <th>V21</th>\n",
       "      <th>V22</th>\n",
       "      <th>V23</th>\n",
       "      <th>V24</th>\n",
       "      <th>V25</th>\n",
       "      <th>V26</th>\n",
       "      <th>V27</th>\n",
       "      <th>V28</th>\n",
       "      <th>Amount</th>\n",
       "      <th>Class</th>\n",
       "    </tr>\n",
       "  </thead>\n",
       "  <tbody>\n",
       "    <tr>\n",
       "      <th>0</th>\n",
       "      <td>0.0</td>\n",
       "      <td>-1.359807</td>\n",
       "      <td>-0.072781</td>\n",
       "      <td>2.536347</td>\n",
       "      <td>1.378155</td>\n",
       "      <td>-0.338321</td>\n",
       "      <td>0.462388</td>\n",
       "      <td>0.239599</td>\n",
       "      <td>0.098698</td>\n",
       "      <td>0.363787</td>\n",
       "      <td>...</td>\n",
       "      <td>-0.018307</td>\n",
       "      <td>0.277838</td>\n",
       "      <td>-0.110474</td>\n",
       "      <td>0.066928</td>\n",
       "      <td>0.128539</td>\n",
       "      <td>-0.189115</td>\n",
       "      <td>0.133558</td>\n",
       "      <td>-0.021053</td>\n",
       "      <td>149.62</td>\n",
       "      <td>0</td>\n",
       "    </tr>\n",
       "    <tr>\n",
       "      <th>1</th>\n",
       "      <td>0.0</td>\n",
       "      <td>1.191857</td>\n",
       "      <td>0.266151</td>\n",
       "      <td>0.166480</td>\n",
       "      <td>0.448154</td>\n",
       "      <td>0.060018</td>\n",
       "      <td>-0.082361</td>\n",
       "      <td>-0.078803</td>\n",
       "      <td>0.085102</td>\n",
       "      <td>-0.255425</td>\n",
       "      <td>...</td>\n",
       "      <td>-0.225775</td>\n",
       "      <td>-0.638672</td>\n",
       "      <td>0.101288</td>\n",
       "      <td>-0.339846</td>\n",
       "      <td>0.167170</td>\n",
       "      <td>0.125895</td>\n",
       "      <td>-0.008983</td>\n",
       "      <td>0.014724</td>\n",
       "      <td>2.69</td>\n",
       "      <td>0</td>\n",
       "    </tr>\n",
       "    <tr>\n",
       "      <th>2</th>\n",
       "      <td>1.0</td>\n",
       "      <td>-1.358354</td>\n",
       "      <td>-1.340163</td>\n",
       "      <td>1.773209</td>\n",
       "      <td>0.379780</td>\n",
       "      <td>-0.503198</td>\n",
       "      <td>1.800499</td>\n",
       "      <td>0.791461</td>\n",
       "      <td>0.247676</td>\n",
       "      <td>-1.514654</td>\n",
       "      <td>...</td>\n",
       "      <td>0.247998</td>\n",
       "      <td>0.771679</td>\n",
       "      <td>0.909412</td>\n",
       "      <td>-0.689281</td>\n",
       "      <td>-0.327642</td>\n",
       "      <td>-0.139097</td>\n",
       "      <td>-0.055353</td>\n",
       "      <td>-0.059752</td>\n",
       "      <td>378.66</td>\n",
       "      <td>0</td>\n",
       "    </tr>\n",
       "    <tr>\n",
       "      <th>3</th>\n",
       "      <td>1.0</td>\n",
       "      <td>-0.966272</td>\n",
       "      <td>-0.185226</td>\n",
       "      <td>1.792993</td>\n",
       "      <td>-0.863291</td>\n",
       "      <td>-0.010309</td>\n",
       "      <td>1.247203</td>\n",
       "      <td>0.237609</td>\n",
       "      <td>0.377436</td>\n",
       "      <td>-1.387024</td>\n",
       "      <td>...</td>\n",
       "      <td>-0.108300</td>\n",
       "      <td>0.005274</td>\n",
       "      <td>-0.190321</td>\n",
       "      <td>-1.175575</td>\n",
       "      <td>0.647376</td>\n",
       "      <td>-0.221929</td>\n",
       "      <td>0.062723</td>\n",
       "      <td>0.061458</td>\n",
       "      <td>123.50</td>\n",
       "      <td>0</td>\n",
       "    </tr>\n",
       "    <tr>\n",
       "      <th>4</th>\n",
       "      <td>2.0</td>\n",
       "      <td>-1.158233</td>\n",
       "      <td>0.877737</td>\n",
       "      <td>1.548718</td>\n",
       "      <td>0.403034</td>\n",
       "      <td>-0.407193</td>\n",
       "      <td>0.095921</td>\n",
       "      <td>0.592941</td>\n",
       "      <td>-0.270533</td>\n",
       "      <td>0.817739</td>\n",
       "      <td>...</td>\n",
       "      <td>-0.009431</td>\n",
       "      <td>0.798278</td>\n",
       "      <td>-0.137458</td>\n",
       "      <td>0.141267</td>\n",
       "      <td>-0.206010</td>\n",
       "      <td>0.502292</td>\n",
       "      <td>0.219422</td>\n",
       "      <td>0.215153</td>\n",
       "      <td>69.99</td>\n",
       "      <td>0</td>\n",
       "    </tr>\n",
       "    <tr>\n",
       "      <th>5</th>\n",
       "      <td>2.0</td>\n",
       "      <td>-0.425966</td>\n",
       "      <td>0.960523</td>\n",
       "      <td>1.141109</td>\n",
       "      <td>-0.168252</td>\n",
       "      <td>0.420987</td>\n",
       "      <td>-0.029728</td>\n",
       "      <td>0.476201</td>\n",
       "      <td>0.260314</td>\n",
       "      <td>-0.568671</td>\n",
       "      <td>...</td>\n",
       "      <td>-0.208254</td>\n",
       "      <td>-0.559825</td>\n",
       "      <td>-0.026398</td>\n",
       "      <td>-0.371427</td>\n",
       "      <td>-0.232794</td>\n",
       "      <td>0.105915</td>\n",
       "      <td>0.253844</td>\n",
       "      <td>0.081080</td>\n",
       "      <td>3.67</td>\n",
       "      <td>0</td>\n",
       "    </tr>\n",
       "    <tr>\n",
       "      <th>6</th>\n",
       "      <td>4.0</td>\n",
       "      <td>1.229658</td>\n",
       "      <td>0.141004</td>\n",
       "      <td>0.045371</td>\n",
       "      <td>1.202613</td>\n",
       "      <td>0.191881</td>\n",
       "      <td>0.272708</td>\n",
       "      <td>-0.005159</td>\n",
       "      <td>0.081213</td>\n",
       "      <td>0.464960</td>\n",
       "      <td>...</td>\n",
       "      <td>-0.167716</td>\n",
       "      <td>-0.270710</td>\n",
       "      <td>-0.154104</td>\n",
       "      <td>-0.780055</td>\n",
       "      <td>0.750137</td>\n",
       "      <td>-0.257237</td>\n",
       "      <td>0.034507</td>\n",
       "      <td>0.005168</td>\n",
       "      <td>4.99</td>\n",
       "      <td>0</td>\n",
       "    </tr>\n",
       "    <tr>\n",
       "      <th>7</th>\n",
       "      <td>7.0</td>\n",
       "      <td>-0.644269</td>\n",
       "      <td>1.417964</td>\n",
       "      <td>1.074380</td>\n",
       "      <td>-0.492199</td>\n",
       "      <td>0.948934</td>\n",
       "      <td>0.428118</td>\n",
       "      <td>1.120631</td>\n",
       "      <td>-3.807864</td>\n",
       "      <td>0.615375</td>\n",
       "      <td>...</td>\n",
       "      <td>1.943465</td>\n",
       "      <td>-1.015455</td>\n",
       "      <td>0.057504</td>\n",
       "      <td>-0.649709</td>\n",
       "      <td>-0.415267</td>\n",
       "      <td>-0.051634</td>\n",
       "      <td>-1.206921</td>\n",
       "      <td>-1.085339</td>\n",
       "      <td>40.80</td>\n",
       "      <td>0</td>\n",
       "    </tr>\n",
       "    <tr>\n",
       "      <th>8</th>\n",
       "      <td>7.0</td>\n",
       "      <td>-0.894286</td>\n",
       "      <td>0.286157</td>\n",
       "      <td>-0.113192</td>\n",
       "      <td>-0.271526</td>\n",
       "      <td>2.669599</td>\n",
       "      <td>3.721818</td>\n",
       "      <td>0.370145</td>\n",
       "      <td>0.851084</td>\n",
       "      <td>-0.392048</td>\n",
       "      <td>...</td>\n",
       "      <td>-0.073425</td>\n",
       "      <td>-0.268092</td>\n",
       "      <td>-0.204233</td>\n",
       "      <td>1.011592</td>\n",
       "      <td>0.373205</td>\n",
       "      <td>-0.384157</td>\n",
       "      <td>0.011747</td>\n",
       "      <td>0.142404</td>\n",
       "      <td>93.20</td>\n",
       "      <td>0</td>\n",
       "    </tr>\n",
       "    <tr>\n",
       "      <th>9</th>\n",
       "      <td>9.0</td>\n",
       "      <td>-0.338262</td>\n",
       "      <td>1.119593</td>\n",
       "      <td>1.044367</td>\n",
       "      <td>-0.222187</td>\n",
       "      <td>0.499361</td>\n",
       "      <td>-0.246761</td>\n",
       "      <td>0.651583</td>\n",
       "      <td>0.069539</td>\n",
       "      <td>-0.736727</td>\n",
       "      <td>...</td>\n",
       "      <td>-0.246914</td>\n",
       "      <td>-0.633753</td>\n",
       "      <td>-0.120794</td>\n",
       "      <td>-0.385050</td>\n",
       "      <td>-0.069733</td>\n",
       "      <td>0.094199</td>\n",
       "      <td>0.246219</td>\n",
       "      <td>0.083076</td>\n",
       "      <td>3.68</td>\n",
       "      <td>0</td>\n",
       "    </tr>\n",
       "  </tbody>\n",
       "</table>\n",
       "<p>10 rows × 31 columns</p>\n",
       "</div>"
      ],
      "text/plain": [
       "   Time        V1        V2        V3        V4        V5        V6        V7  \\\n",
       "0   0.0 -1.359807 -0.072781  2.536347  1.378155 -0.338321  0.462388  0.239599   \n",
       "1   0.0  1.191857  0.266151  0.166480  0.448154  0.060018 -0.082361 -0.078803   \n",
       "2   1.0 -1.358354 -1.340163  1.773209  0.379780 -0.503198  1.800499  0.791461   \n",
       "3   1.0 -0.966272 -0.185226  1.792993 -0.863291 -0.010309  1.247203  0.237609   \n",
       "4   2.0 -1.158233  0.877737  1.548718  0.403034 -0.407193  0.095921  0.592941   \n",
       "5   2.0 -0.425966  0.960523  1.141109 -0.168252  0.420987 -0.029728  0.476201   \n",
       "6   4.0  1.229658  0.141004  0.045371  1.202613  0.191881  0.272708 -0.005159   \n",
       "7   7.0 -0.644269  1.417964  1.074380 -0.492199  0.948934  0.428118  1.120631   \n",
       "8   7.0 -0.894286  0.286157 -0.113192 -0.271526  2.669599  3.721818  0.370145   \n",
       "9   9.0 -0.338262  1.119593  1.044367 -0.222187  0.499361 -0.246761  0.651583   \n",
       "\n",
       "         V8        V9  ...       V21       V22       V23       V24       V25  \\\n",
       "0  0.098698  0.363787  ... -0.018307  0.277838 -0.110474  0.066928  0.128539   \n",
       "1  0.085102 -0.255425  ... -0.225775 -0.638672  0.101288 -0.339846  0.167170   \n",
       "2  0.247676 -1.514654  ...  0.247998  0.771679  0.909412 -0.689281 -0.327642   \n",
       "3  0.377436 -1.387024  ... -0.108300  0.005274 -0.190321 -1.175575  0.647376   \n",
       "4 -0.270533  0.817739  ... -0.009431  0.798278 -0.137458  0.141267 -0.206010   \n",
       "5  0.260314 -0.568671  ... -0.208254 -0.559825 -0.026398 -0.371427 -0.232794   \n",
       "6  0.081213  0.464960  ... -0.167716 -0.270710 -0.154104 -0.780055  0.750137   \n",
       "7 -3.807864  0.615375  ...  1.943465 -1.015455  0.057504 -0.649709 -0.415267   \n",
       "8  0.851084 -0.392048  ... -0.073425 -0.268092 -0.204233  1.011592  0.373205   \n",
       "9  0.069539 -0.736727  ... -0.246914 -0.633753 -0.120794 -0.385050 -0.069733   \n",
       "\n",
       "        V26       V27       V28  Amount  Class  \n",
       "0 -0.189115  0.133558 -0.021053  149.62      0  \n",
       "1  0.125895 -0.008983  0.014724    2.69      0  \n",
       "2 -0.139097 -0.055353 -0.059752  378.66      0  \n",
       "3 -0.221929  0.062723  0.061458  123.50      0  \n",
       "4  0.502292  0.219422  0.215153   69.99      0  \n",
       "5  0.105915  0.253844  0.081080    3.67      0  \n",
       "6 -0.257237  0.034507  0.005168    4.99      0  \n",
       "7 -0.051634 -1.206921 -1.085339   40.80      0  \n",
       "8 -0.384157  0.011747  0.142404   93.20      0  \n",
       "9  0.094199  0.246219  0.083076    3.68      0  \n",
       "\n",
       "[10 rows x 31 columns]"
      ]
     },
     "execution_count": 2,
     "metadata": {},
     "output_type": "execute_result"
    }
   ],
   "source": [
    "raw_df = pd.read_csv('https://storage.googleapis.com/download.tensorflow.org/data/creditcard.csv')\n",
    "raw_df.head(10)"
   ]
  },
  {
   "cell_type": "markdown",
   "metadata": {
    "id": "f7iaHyCqG6lk"
   },
   "source": [
    "### **Examining the class Imbalance**\n",
    "**1.1 How many observations are in this dataset? How many are positive and negative?** <br>\n",
    "(Note: Positive labels are labeled as 1)"
   ]
  },
  {
   "cell_type": "code",
   "execution_count": 3,
   "metadata": {
    "id": "BXv6y3-SG1JJ"
   },
   "outputs": [
    {
     "data": {
      "text/plain": [
       "284807"
      ]
     },
     "execution_count": 3,
     "metadata": {},
     "output_type": "execute_result"
    }
   ],
   "source": [
    "# Your Code Here\n",
    "raw_df.shape[0]\n",
    "\n",
    "# there are 284807 observations in the dataset"
   ]
  },
  {
   "cell_type": "code",
   "execution_count": 4,
   "metadata": {},
   "outputs": [
    {
     "name": "stdout",
     "output_type": "stream",
     "text": [
      "492 are positive\n",
      "284315 are negative\n"
     ]
    }
   ],
   "source": [
    "print(raw_df[raw_df['Class']==1].shape[0], 'are positive')\n",
    "print(raw_df[raw_df['Class']==0].shape[0], 'are negative')"
   ]
  },
  {
   "cell_type": "markdown",
   "metadata": {
    "id": "La6L9rkGHZD7"
   },
   "source": [
    "#### **1.2 Cleaning and normalizing the data**\n",
    "The raw data has a few issues. <br>\n",
    "Since we are unsure what the time column actually means so drop the Time column. \n",
    "The Amount column also has a wide range of values covered so we take the log of the Amount column to reduce its range. <br>\n",
    "\n",
    "The below is already done for you."
   ]
  },
  {
   "cell_type": "code",
   "execution_count": 5,
   "metadata": {
    "id": "weojo62PHXHj"
   },
   "outputs": [],
   "source": [
    "cleaned_df = raw_df.copy()\n",
    "\n",
    "# You don't want the 'Time' column. Pop it off\n",
    "cleaned_df.pop('Time')\n",
    "\n",
    "# The 'Amount' column covers a huge range. Convert it to log-space.\n",
    "eps = 0.001\n",
    "cleaned_df['Log Ammount'] = np.log(cleaned_df.pop('Amount') + eps)"
   ]
  },
  {
   "cell_type": "markdown",
   "metadata": {
    "id": "xOftMoAtI_QU"
   },
   "source": [
    "**1.2.1 Split the dataset into development and test sets. Set test size as 20% and random state as 42. Print the shape of your development and test features**"
   ]
  },
  {
   "cell_type": "code",
   "execution_count": 6,
   "metadata": {
    "id": "Wn9dT8cXIvNi"
   },
   "outputs": [],
   "source": [
    "# Your Code Here\n",
    "from sklearn.model_selection import train_test_split\n",
    "y = cleaned_df['Class']\n",
    "X = cleaned_df.drop(columns=['Class'])\n",
    "X_dev, X_test, y_dev, y_test = train_test_split(X,y,test_size=0.2,random_state=42)"
   ]
  },
  {
   "cell_type": "code",
   "execution_count": 7,
   "metadata": {},
   "outputs": [
    {
     "name": "stdout",
     "output_type": "stream",
     "text": [
      "(227845, 29) (56962, 29)\n"
     ]
    }
   ],
   "source": [
    "print(X_dev.shape,X_test.shape)"
   ]
  },
  {
   "cell_type": "markdown",
   "metadata": {
    "id": "xkdb9wmeJKx8"
   },
   "source": [
    "**1.2.2 Normalize the features using Standard Scaler from Sklearn.**"
   ]
  },
  {
   "cell_type": "code",
   "execution_count": 8,
   "metadata": {
    "id": "6NQKlUcwJH1O"
   },
   "outputs": [],
   "source": [
    "# Your Code Here\n",
    "from sklearn.preprocessing import StandardScaler\n",
    "scalar=StandardScaler()\n",
    "X_dev=scalar.fit_transform(X_dev)\n",
    "X_test=scalar.transform(X_test)"
   ]
  },
  {
   "cell_type": "markdown",
   "metadata": {
    "id": "8kSY6RNPKKhu"
   },
   "source": [
    "### **Default Baseline**\n",
    "**1.3.1 First, let us fit a default Decision tree classifier (use max_depth=10 and random_state=42). Print the AUC and Average Precision values of 5 Fold Cross Validation**"
   ]
  },
  {
   "cell_type": "code",
   "execution_count": 9,
   "metadata": {
    "id": "WUb3DJOHK2UA"
   },
   "outputs": [],
   "source": [
    "# Your Code Here\n",
    "from sklearn.model_selection import cross_validate\n",
    "from sklearn.tree import DecisionTreeClassifier"
   ]
  },
  {
   "cell_type": "code",
   "execution_count": 10,
   "metadata": {},
   "outputs": [
    {
     "name": "stderr",
     "output_type": "stream",
     "text": [
      "[Parallel(n_jobs=1)]: Using backend SequentialBackend with 1 concurrent workers.\n",
      "[Parallel(n_jobs=1)]: Done   5 out of   5 | elapsed:   32.7s finished\n"
     ]
    },
    {
     "name": "stdout",
     "output_type": "stream",
     "text": [
      "{'fit_time': array([6.59496188, 6.47882581, 6.54928207, 6.4820981 , 6.54897976]), 'score_time': array([0.01296377, 0.01170802, 0.01296186, 0.01191998, 0.01127625]), 'test_roc_auc': array([0.86957634, 0.82799822, 0.83798122, 0.88266235, 0.90893353]), 'test_average_precision': array([0.64646286, 0.6763446 , 0.61677062, 0.68317716, 0.68281098])}\n"
     ]
    },
    {
     "data": {
      "text/plain": [
       "DecisionTreeClassifier(max_depth=10, random_state=42)"
      ]
     },
     "execution_count": 10,
     "metadata": {},
     "output_type": "execute_result"
    }
   ],
   "source": [
    "score = ['roc_auc', 'average_precision']\n",
    "dt = DecisionTreeClassifier(max_depth=10,random_state=42)\n",
    "cv = cross_validate(dt, X_dev, y_dev, cv=5, scoring=score,verbose=True)\n",
    "print(cv)\n",
    "dt.fit(X_dev,y_dev)"
   ]
  },
  {
   "cell_type": "code",
   "execution_count": 11,
   "metadata": {},
   "outputs": [
    {
     "data": {
      "text/plain": [
       "array([0.86957634, 0.82799822, 0.83798122, 0.88266235, 0.90893353])"
      ]
     },
     "execution_count": 11,
     "metadata": {},
     "output_type": "execute_result"
    }
   ],
   "source": [
    "# AUC\n",
    "cv['test_roc_auc']"
   ]
  },
  {
   "cell_type": "code",
   "execution_count": 13,
   "metadata": {},
   "outputs": [
    {
     "data": {
      "text/plain": [
       "array([0.64646286, 0.6763446 , 0.61677062, 0.68317716, 0.68281098])"
      ]
     },
     "execution_count": 13,
     "metadata": {},
     "output_type": "execute_result"
    }
   ],
   "source": [
    "# average precision value\n",
    "cv['test_average_precision']"
   ]
  },
  {
   "cell_type": "markdown",
   "metadata": {
    "id": "WOKFElp7K7Dw"
   },
   "source": [
    "### **Random Oversampling**\n",
    "**1.3.2 Perform random oversampling on the development dataset.**\n",
    "\n",
    "*   How many positive and negative labels do you observe after random oversampling?\n",
    "*   What is the shape of your development dataset?\n",
    "\n",
    "(Note: Set random state as 42 when performing oversampling)"
   ]
  },
  {
   "cell_type": "code",
   "execution_count": 14,
   "metadata": {},
   "outputs": [
    {
     "name": "stdout",
     "output_type": "stream",
     "text": [
      "Requirement already satisfied: imbalanced-learn in /Users/zhangxueqing/opt/anaconda3/lib/python3.9/site-packages (0.10.1)\n",
      "Requirement already satisfied: scipy>=1.3.2 in /Users/zhangxueqing/opt/anaconda3/lib/python3.9/site-packages (from imbalanced-learn) (1.7.3)\n",
      "Requirement already satisfied: numpy>=1.17.3 in /Users/zhangxueqing/opt/anaconda3/lib/python3.9/site-packages (from imbalanced-learn) (1.21.5)\n",
      "Requirement already satisfied: threadpoolctl>=2.0.0 in /Users/zhangxueqing/opt/anaconda3/lib/python3.9/site-packages (from imbalanced-learn) (2.2.0)\n",
      "Requirement already satisfied: scikit-learn>=1.0.2 in /Users/zhangxueqing/opt/anaconda3/lib/python3.9/site-packages (from imbalanced-learn) (1.0.2)\n",
      "Requirement already satisfied: joblib>=1.1.1 in /Users/zhangxueqing/opt/anaconda3/lib/python3.9/site-packages (from imbalanced-learn) (1.2.0)\n",
      "Note: you may need to restart the kernel to use updated packages.\n"
     ]
    }
   ],
   "source": [
    "pip install imbalanced-learn"
   ]
  },
  {
   "cell_type": "code",
   "execution_count": 15,
   "metadata": {
    "id": "t-2VVTY8K5c4"
   },
   "outputs": [],
   "source": [
    "# Your Code Here\n",
    "from imblearn.over_sampling import RandomOverSampler\n",
    "ros = RandomOverSampler(random_state=42)\n",
    "X_dev_oversample, y_dev_oversample = ros.fit_resample(X_dev, y_dev)"
   ]
  },
  {
   "cell_type": "code",
   "execution_count": 16,
   "metadata": {},
   "outputs": [
    {
     "name": "stdout",
     "output_type": "stream",
     "text": [
      "227451 are positive\n",
      "227451 are negative\n"
     ]
    }
   ],
   "source": [
    "print(y_dev_oversample[y_dev_oversample==1].shape[0], 'are positive')\n",
    "print(y_dev_oversample[y_dev_oversample==0].shape[0], 'are negative')"
   ]
  },
  {
   "cell_type": "code",
   "execution_count": 17,
   "metadata": {},
   "outputs": [
    {
     "name": "stdout",
     "output_type": "stream",
     "text": [
      "shape of X_dev:  (454902, 29)\n",
      "shape of y_dev:  (454902,)\n"
     ]
    }
   ],
   "source": [
    "print(\"shape of X_dev: \", X_dev_oversample.shape)\n",
    "print(\"shape of y_dev: \", y_dev_oversample.shape)"
   ]
  },
  {
   "cell_type": "markdown",
   "metadata": {
    "id": "45ayLBshLuKl"
   },
   "source": [
    "**1.3.3 Repeat 1.3.1 using the dataset you created in the above step (1.3.2 Random oversampling). <br>(Make sure you use the same hyperparameters as 1.3.1. i.e., max_depth=10, random_state=42 and 5 Fold Cross Validation) <br>\n",
    "This will help us to compare the models.**"
   ]
  },
  {
   "cell_type": "code",
   "execution_count": 18,
   "metadata": {
    "id": "7DDb_cTFLsKM"
   },
   "outputs": [
    {
     "name": "stderr",
     "output_type": "stream",
     "text": [
      "[Parallel(n_jobs=1)]: Using backend SequentialBackend with 1 concurrent workers.\n",
      "[Parallel(n_jobs=1)]: Done   5 out of   5 | elapsed:   35.8s finished\n"
     ]
    },
    {
     "name": "stdout",
     "output_type": "stream",
     "text": [
      "{'fit_time': array([7.32540321, 7.03921294, 7.08225417, 7.11276102, 7.06700516]), 'score_time': array([0.03727293, 0.02534294, 0.02546191, 0.02482677, 0.02429199]), 'test_roc_auc': array([0.99840012, 0.9983086 , 0.99847279, 0.99847804, 0.99857557]), 'test_average_precision': array([0.99786268, 0.99767719, 0.9978636 , 0.99787444, 0.99807898])}\n"
     ]
    },
    {
     "data": {
      "text/plain": [
       "DecisionTreeClassifier(max_depth=10, random_state=42)"
      ]
     },
     "execution_count": 18,
     "metadata": {},
     "output_type": "execute_result"
    }
   ],
   "source": [
    "# Your Code Here\n",
    "score_ros = ['roc_auc', 'average_precision']\n",
    "dt_ros = DecisionTreeClassifier(max_depth=10,random_state=42)\n",
    "cv_ros = cross_validate(dt_ros, X_dev_oversample, y_dev_oversample, cv=5, scoring=score_ros,verbose=True)\n",
    "print(cv_ros)\n",
    "dt_ros.fit(X_dev_oversample,y_dev_oversample)"
   ]
  },
  {
   "cell_type": "code",
   "execution_count": 19,
   "metadata": {},
   "outputs": [
    {
     "data": {
      "text/plain": [
       "array([0.99840012, 0.9983086 , 0.99847279, 0.99847804, 0.99857557])"
      ]
     },
     "execution_count": 19,
     "metadata": {},
     "output_type": "execute_result"
    }
   ],
   "source": [
    "# AUC\n",
    "cv_ros['test_roc_auc']"
   ]
  },
  {
   "cell_type": "code",
   "execution_count": 20,
   "metadata": {},
   "outputs": [
    {
     "data": {
      "text/plain": [
       "array([0.99786268, 0.99767719, 0.9978636 , 0.99787444, 0.99807898])"
      ]
     },
     "execution_count": 20,
     "metadata": {},
     "output_type": "execute_result"
    }
   ],
   "source": [
    "# average precision value\n",
    "cv_ros['test_average_precision']"
   ]
  },
  {
   "cell_type": "code",
   "execution_count": 21,
   "metadata": {},
   "outputs": [],
   "source": [
    "# both AUC and average precison value have significantly increased"
   ]
  },
  {
   "cell_type": "markdown",
   "metadata": {
    "id": "Z7un4RnfMX56"
   },
   "source": [
    "### **Random Undersampling**\n",
    "**1.3.4 Perform Random undersampling on the development dataset.**\n",
    "\n",
    "- How many positive and negative labels do you observe after random undersampling?\n",
    "- What is the shape of your development dataset?\n",
    "\n",
    "(Note: Set random state as 42 when performing undersampling)"
   ]
  },
  {
   "cell_type": "code",
   "execution_count": 22,
   "metadata": {
    "id": "9LSxKMiZMSTZ"
   },
   "outputs": [],
   "source": [
    "# Your Code Here\n",
    "from imblearn.under_sampling import RandomUnderSampler\n",
    "rus = RandomUnderSampler(random_state=42)\n",
    "X_dev_subsample, y_dev_subsample = rus.fit_resample(X_dev, y_dev)"
   ]
  },
  {
   "cell_type": "code",
   "execution_count": 23,
   "metadata": {},
   "outputs": [
    {
     "name": "stdout",
     "output_type": "stream",
     "text": [
      "394 are positive\n",
      "394 are negative\n"
     ]
    }
   ],
   "source": [
    "print(y_dev_subsample[y_dev_subsample==1].shape[0], 'are positive')\n",
    "print(y_dev_subsample[y_dev_subsample==0].shape[0], 'are negative')"
   ]
  },
  {
   "cell_type": "code",
   "execution_count": 24,
   "metadata": {},
   "outputs": [
    {
     "name": "stdout",
     "output_type": "stream",
     "text": [
      "shape of X_dev:  (788, 29)\n",
      "shape of y_dev:  (788,)\n"
     ]
    }
   ],
   "source": [
    "print(\"shape of X_dev: \", X_dev_subsample.shape)\n",
    "print(\"shape of y_dev: \", y_dev_subsample.shape)"
   ]
  },
  {
   "cell_type": "markdown",
   "metadata": {
    "id": "EYBOYBcqMr-9"
   },
   "source": [
    "**1.3.5 Repeat 1.3.1 using the dataset you created in the above step(1.3.4 Random undersampling).<br>(Make sure you use the same hyperparameters as 1.3.1. i.e., max_depth=10, random_state=42 and 5 Fold Cross Validation)<br>\n",
    "This will help us to compare the models**"
   ]
  },
  {
   "cell_type": "code",
   "execution_count": 25,
   "metadata": {
    "id": "hMGzlKuQMrXA"
   },
   "outputs": [
    {
     "name": "stdout",
     "output_type": "stream",
     "text": [
      "{'fit_time': array([0.02273893, 0.01199484, 0.01119924, 0.00874209, 0.00882983]), 'score_time': array([0.00453305, 0.00335407, 0.001266  , 0.00116897, 0.00120425]), 'test_roc_auc': array([0.8852748 , 0.86388399, 0.89873418, 0.91731581, 0.94790652]), 'test_average_precision': array([0.82838644, 0.81661392, 0.86683544, 0.87531025, 0.92073059])}\n"
     ]
    },
    {
     "name": "stderr",
     "output_type": "stream",
     "text": [
      "[Parallel(n_jobs=1)]: Using backend SequentialBackend with 1 concurrent workers.\n",
      "[Parallel(n_jobs=1)]: Done   5 out of   5 | elapsed:    0.1s finished\n"
     ]
    },
    {
     "data": {
      "text/plain": [
       "DecisionTreeClassifier(max_depth=10, random_state=42)"
      ]
     },
     "execution_count": 25,
     "metadata": {},
     "output_type": "execute_result"
    }
   ],
   "source": [
    "# Your Code Here\n",
    "\n",
    "score_us = ['roc_auc', 'average_precision']\n",
    "dt_us = DecisionTreeClassifier(max_depth=10,random_state=42)\n",
    "cv_us = cross_validate(dt_us, X_dev_subsample, y_dev_subsample, cv=5, scoring=score_us,verbose=True)\n",
    "print(cv_us)\n",
    "dt_us.fit(X_dev_subsample,y_dev_subsample)"
   ]
  },
  {
   "cell_type": "code",
   "execution_count": 26,
   "metadata": {},
   "outputs": [
    {
     "data": {
      "text/plain": [
       "array([0.8852748 , 0.86388399, 0.89873418, 0.91731581, 0.94790652])"
      ]
     },
     "execution_count": 26,
     "metadata": {},
     "output_type": "execute_result"
    }
   ],
   "source": [
    "# AUC\n",
    "cv_us['test_roc_auc']"
   ]
  },
  {
   "cell_type": "code",
   "execution_count": 27,
   "metadata": {},
   "outputs": [
    {
     "data": {
      "text/plain": [
       "array([0.82838644, 0.81661392, 0.86683544, 0.87531025, 0.92073059])"
      ]
     },
     "execution_count": 27,
     "metadata": {},
     "output_type": "execute_result"
    }
   ],
   "source": [
    "# average precision value\n",
    "cv_us['test_average_precision']"
   ]
  },
  {
   "cell_type": "code",
   "execution_count": 34,
   "metadata": {},
   "outputs": [],
   "source": [
    "# this is better than the model before sampling, but no better than performing oversampling"
   ]
  },
  {
   "cell_type": "markdown",
   "metadata": {
    "id": "D03K-7rlNOrI"
   },
   "source": [
    "### **SMOTE**\n",
    "**1.3.6 Perform Synthetic Minority Oversampling Technique (SMOTE) on the development dataset**\n",
    "\n",
    "- How many positive and negative labels do you observe after performing SMOTE?\n",
    "- What is the shape of your development dataset?\n",
    "\n",
    "(Note: Set random state as 42 when performing SMOTE)"
   ]
  },
  {
   "cell_type": "code",
   "execution_count": 28,
   "metadata": {
    "id": "bFzUvcRiMznd"
   },
   "outputs": [],
   "source": [
    "# Your Code Here\n",
    "from imblearn.over_sampling import SMOTE\n",
    "smote = SMOTE(random_state=42)\n",
    "X_dev_smote, y_dev_smote = smote.fit_resample(X_dev, y_dev)"
   ]
  },
  {
   "cell_type": "code",
   "execution_count": 29,
   "metadata": {},
   "outputs": [
    {
     "name": "stdout",
     "output_type": "stream",
     "text": [
      "227451 are positive\n",
      "227451 are negative\n"
     ]
    }
   ],
   "source": [
    "print(y_dev_smote[y_dev_smote==1].shape[0], 'are positive')\n",
    "print(y_dev_smote[y_dev_smote==0].shape[0], 'are negative')"
   ]
  },
  {
   "cell_type": "code",
   "execution_count": 30,
   "metadata": {},
   "outputs": [
    {
     "name": "stdout",
     "output_type": "stream",
     "text": [
      "shape of X_dev:  (454902, 29)\n",
      "shape of y_dev:  (454902, 29)\n"
     ]
    }
   ],
   "source": [
    "print(\"shape of X_dev: \", X_dev_smote.shape)\n",
    "print(\"shape of y_dev: \", X_dev_smote.shape)"
   ]
  },
  {
   "cell_type": "markdown",
   "metadata": {
    "id": "ZkVRBIM-Nn9z"
   },
   "source": [
    "**1.3.7 Repeat 1.3.1 using the dataset you created in the above step(1.3.4 SMOTE).<br>(Make sure you use the same hyperparameters as 1.3.1. i.e., max_depth=10, random_state=42 and 5 Fold Cross Validation)<br>\n",
    "This will help us to compare the models**"
   ]
  },
  {
   "cell_type": "code",
   "execution_count": 31,
   "metadata": {
    "id": "-JDjMP2kNnRJ"
   },
   "outputs": [
    {
     "name": "stderr",
     "output_type": "stream",
     "text": [
      "[Parallel(n_jobs=1)]: Using backend SequentialBackend with 1 concurrent workers.\n",
      "[Parallel(n_jobs=1)]: Done   5 out of   5 | elapsed:  1.1min finished\n"
     ]
    },
    {
     "name": "stdout",
     "output_type": "stream",
     "text": [
      "{'fit_time': array([13.63128304, 12.44942188, 12.43559504, 12.41603589, 12.35749984]), 'score_time': array([0.07105923, 0.02876997, 0.03001189, 0.02774715, 0.028332  ]), 'test_roc_auc': array([0.99729603, 0.99747394, 0.99713467, 0.99703584, 0.99724342]), 'test_average_precision': array([0.99658165, 0.99656764, 0.99603047, 0.99593317, 0.99618909])}\n"
     ]
    },
    {
     "data": {
      "text/plain": [
       "DecisionTreeClassifier(max_depth=10, random_state=42)"
      ]
     },
     "execution_count": 31,
     "metadata": {},
     "output_type": "execute_result"
    }
   ],
   "source": [
    "# Your Code Here\n",
    "\n",
    "score_smote = ['roc_auc', 'average_precision']\n",
    "dt_smote = DecisionTreeClassifier(max_depth=10,random_state=42)\n",
    "cv_smote = cross_validate(dt_smote, X_dev_smote, y_dev_smote, cv=5, scoring=score_smote,verbose=True)\n",
    "print(cv_smote)\n",
    "dt_smote.fit(X_dev_smote,y_dev_smote)"
   ]
  },
  {
   "cell_type": "code",
   "execution_count": 32,
   "metadata": {},
   "outputs": [
    {
     "data": {
      "text/plain": [
       "array([0.99729603, 0.99747394, 0.99713467, 0.99703584, 0.99724342])"
      ]
     },
     "execution_count": 32,
     "metadata": {},
     "output_type": "execute_result"
    }
   ],
   "source": [
    "# AUC\n",
    "cv_smote['test_roc_auc']"
   ]
  },
  {
   "cell_type": "code",
   "execution_count": 34,
   "metadata": {},
   "outputs": [
    {
     "data": {
      "text/plain": [
       "array([0.99658165, 0.99656764, 0.99603047, 0.99593317, 0.99618909])"
      ]
     },
     "execution_count": 34,
     "metadata": {},
     "output_type": "execute_result"
    }
   ],
   "source": [
    "# average precision value\n",
    "cv_smote['test_average_precision']"
   ]
  },
  {
   "cell_type": "markdown",
   "metadata": {
    "id": "7yzjUR8kPEgh"
   },
   "source": [
    "### **Balanced Weight**\n",
    "\n",
    "**1.3.8 Train a balanced default Decision tree classifier. <br> [ use max_depth=10 and random_state=42 and balance the class weights with 5 Fold Cross Validation ] <br>\n",
    "Print the AUC and average precision on dev set**"
   ]
  },
  {
   "cell_type": "code",
   "execution_count": 35,
   "metadata": {
    "id": "vJdAv81NO7Zr"
   },
   "outputs": [
    {
     "name": "stderr",
     "output_type": "stream",
     "text": [
      "[Parallel(n_jobs=1)]: Using backend SequentialBackend with 1 concurrent workers.\n",
      "[Parallel(n_jobs=1)]: Done   5 out of   5 | elapsed:   26.0s finished\n"
     ]
    },
    {
     "name": "stdout",
     "output_type": "stream",
     "text": [
      "{'fit_time': array([6.36964869, 4.67105103, 5.19389892, 4.63878107, 4.99680305]), 'score_time': array([0.01363206, 0.01087713, 0.01183414, 0.01046014, 0.01223612]), 'test_roc_auc': array([0.9053394 , 0.90420916, 0.88501785, 0.91692054, 0.92351567]), 'test_average_precision': array([0.63963546, 0.61345204, 0.61983563, 0.63412551, 0.61125666])}\n"
     ]
    },
    {
     "data": {
      "text/plain": [
       "DecisionTreeClassifier(class_weight='balanced', max_depth=10, random_state=42)"
      ]
     },
     "execution_count": 35,
     "metadata": {},
     "output_type": "execute_result"
    }
   ],
   "source": [
    "# Your Code Here\n",
    "\n",
    "score_bw = ['roc_auc', 'average_precision']\n",
    "bw = DecisionTreeClassifier(max_depth=10,random_state=42,class_weight='balanced')\n",
    "cv_bw = cross_validate(bw, X_dev, y_dev, cv=5, scoring=score_bw,verbose=True)\n",
    "print(cv_bw)\n",
    "bw.fit(X_dev,y_dev)"
   ]
  },
  {
   "cell_type": "code",
   "execution_count": 36,
   "metadata": {},
   "outputs": [
    {
     "data": {
      "text/plain": [
       "array([0.9053394 , 0.90420916, 0.88501785, 0.91692054, 0.92351567])"
      ]
     },
     "execution_count": 36,
     "metadata": {},
     "output_type": "execute_result"
    }
   ],
   "source": [
    "# AUC\n",
    "cv_bw['test_roc_auc']"
   ]
  },
  {
   "cell_type": "code",
   "execution_count": 37,
   "metadata": {},
   "outputs": [
    {
     "data": {
      "text/plain": [
       "array([0.63963546, 0.61345204, 0.61983563, 0.63412551, 0.61125666])"
      ]
     },
     "execution_count": 37,
     "metadata": {},
     "output_type": "execute_result"
    }
   ],
   "source": [
    "# average precision value\n",
    "cv_bw['test_average_precision']"
   ]
  },
  {
   "cell_type": "markdown",
   "metadata": {
    "id": "3b5GAOgCN-pm"
   },
   "source": [
    "### **Model Prediction & Evaluation**\n",
    "**1.4.1 Make predictions on the test set using the five models that you built and report their AUC values.**<br>\n",
    "(Five models include models from - Default Baseline, Random Undersampling, Random Oversampling, SMOTE & Balanced Weight)"
   ]
  },
  {
   "cell_type": "code",
   "execution_count": 38,
   "metadata": {
    "id": "sPrjunuK7d74"
   },
   "outputs": [],
   "source": [
    "# Your Code Here\n",
    "\n",
    "from sklearn import metrics\n",
    "from sklearn.metrics import roc_curve, auc\n",
    "\n",
    "y_pred = dt.predict(X_test)"
   ]
  },
  {
   "cell_type": "code",
   "execution_count": 39,
   "metadata": {},
   "outputs": [],
   "source": [
    "y_pred_rus = dt_us.predict(X_test)"
   ]
  },
  {
   "cell_type": "code",
   "execution_count": 40,
   "metadata": {},
   "outputs": [],
   "source": [
    "y_pred_ros = dt_ros.predict(X_test)"
   ]
  },
  {
   "cell_type": "code",
   "execution_count": 41,
   "metadata": {},
   "outputs": [],
   "source": [
    "y_pred_smote = dt_smote.predict(X_test)"
   ]
  },
  {
   "cell_type": "code",
   "execution_count": 42,
   "metadata": {},
   "outputs": [],
   "source": [
    "y_pred_bw = bw.predict(X_test)"
   ]
  },
  {
   "cell_type": "code",
   "execution_count": 43,
   "metadata": {},
   "outputs": [],
   "source": [
    "# AUC\n",
    "(fpr_db, tpr_db, thresholds_db) = metrics.roc_curve(y_test,dt.predict_proba(X_test)[:,1])\n",
    "AUC_db = auc(fpr_db,tpr_db)\n",
    "\n",
    "(fpr_us, tpr_us, thresholds_us) = metrics.roc_curve(y_test,dt_us.predict_proba(X_test)[:,1])\n",
    "AUC_us = auc(fpr_us,tpr_us)\n",
    "\n",
    "(fpr_ros, tpr_ros, thresholds_ros) = metrics.roc_curve(y_test,dt_ros.predict_proba(X_test)[:,1])\n",
    "AUC_ros = auc(fpr_ros,tpr_ros)\n",
    "\n",
    "(fpr_smote, tpr_smote, thresholds_smote) = metrics.roc_curve(y_test,dt_smote.predict_proba(X_test)[:,1])\n",
    "AUC_smote = auc(fpr_smote,tpr_smote)\n",
    "\n",
    "(fpr_bw, tpr_bw, thresholds_bw) = metrics.roc_curve(y_test,bw.predict_proba(X_test)[:,1])\n",
    "AUC_bw = auc(fpr_bw,tpr_bw)"
   ]
  },
  {
   "cell_type": "code",
   "execution_count": 44,
   "metadata": {},
   "outputs": [
    {
     "name": "stdout",
     "output_type": "stream",
     "text": [
      "AUC for default baseline model:  0.871912253224306\n",
      "AUC for default Random Undersampling:  0.9050787485787788\n",
      "AUC for default Random Oversampling:  0.8609190528349776\n",
      "AUC for default SMOTE:  0.8893473364303515\n",
      "AUC for default Balanced Weight:  0.8432507780827582\n"
     ]
    }
   ],
   "source": [
    "print(\"AUC for default baseline model: \", AUC_db)\n",
    "print(\"AUC for default Random Undersampling: \", AUC_us)\n",
    "print(\"AUC for default Random Oversampling: \", AUC_ros)\n",
    "print(\"AUC for default SMOTE: \", AUC_smote)\n",
    "print(\"AUC for default Balanced Weight: \", AUC_bw)"
   ]
  },
  {
   "cell_type": "markdown",
   "metadata": {
    "id": "8jSslBq5OhNs"
   },
   "source": [
    "**1.4.2 Plot Confusion Matrices for all the five models on the test set. Comment your results and share your observations of the confusion matrices in detail**<br>\n",
    "(Five models include models from - Default Baseline, Random Undersampling, Random Oversampling, SMOTE & Balanced Weight)"
   ]
  },
  {
   "cell_type": "code",
   "execution_count": 45,
   "metadata": {
    "id": "ZzWN-hZIOeRk"
   },
   "outputs": [
    {
     "name": "stderr",
     "output_type": "stream",
     "text": [
      "/Users/zhangxueqing/opt/anaconda3/lib/python3.9/site-packages/sklearn/utils/deprecation.py:87: FutureWarning: Function plot_confusion_matrix is deprecated; Function `plot_confusion_matrix` is deprecated in 1.0 and will be removed in 1.2. Use one of the class methods: ConfusionMatrixDisplay.from_predictions or ConfusionMatrixDisplay.from_estimator.\n",
      "  warnings.warn(msg, category=FutureWarning)\n"
     ]
    },
    {
     "data": {
      "image/png": "[encoded data removed]",
      "text/plain": [
       "<Figure size 432x288 with 2 Axes>"
      ]
     },
     "metadata": {
      "needs_background": "light"
     },
     "output_type": "display_data"
    }
   ],
   "source": [
    "# Your Code Here\n",
    "\n",
    "from sklearn.metrics import plot_confusion_matrix\n",
    "import matplotlib.pyplot as plt\n",
    "\n",
    "labels = ['Negative', 'Positive']\n",
    "plot_confusion_matrix(dt, X_test, y_test, display_labels=labels)\n",
    "plt.title('Default Baseline')\n",
    "plt.show()                   "
   ]
  },
  {
   "cell_type": "code",
   "execution_count": 46,
   "metadata": {},
   "outputs": [
    {
     "name": "stderr",
     "output_type": "stream",
     "text": [
      "/Users/zhangxueqing/opt/anaconda3/lib/python3.9/site-packages/sklearn/utils/deprecation.py:87: FutureWarning: Function plot_confusion_matrix is deprecated; Function `plot_confusion_matrix` is deprecated in 1.0 and will be removed in 1.2. Use one of the class methods: ConfusionMatrixDisplay.from_predictions or ConfusionMatrixDisplay.from_estimator.\n",
      "  warnings.warn(msg, category=FutureWarning)\n"
     ]
    },
    {
     "data": {
      "image/png": "[encoded data removed]",
      "text/plain": [
       "<Figure size 432x288 with 2 Axes>"
      ]
     },
     "metadata": {
      "needs_background": "light"
     },
     "output_type": "display_data"
    }
   ],
   "source": [
    "plot_confusion_matrix(dt_us, X_test, y_test, display_labels=labels)\n",
    "plt.title('Random Undersampling')\n",
    "plt.show()"
   ]
  },
  {
   "cell_type": "code",
   "execution_count": 47,
   "metadata": {},
   "outputs": [
    {
     "name": "stderr",
     "output_type": "stream",
     "text": [
      "/Users/zhangxueqing/opt/anaconda3/lib/python3.9/site-packages/sklearn/utils/deprecation.py:87: FutureWarning: Function plot_confusion_matrix is deprecated; Function `plot_confusion_matrix` is deprecated in 1.0 and will be removed in 1.2. Use one of the class methods: ConfusionMatrixDisplay.from_predictions or ConfusionMatrixDisplay.from_estimator.\n",
      "  warnings.warn(msg, category=FutureWarning)\n"
     ]
    },
    {
     "data": {
      "image/png": "[encoded data removed]",
      "text/plain": [
       "<Figure size 432x288 with 2 Axes>"
      ]
     },
     "metadata": {
      "needs_background": "light"
     },
     "output_type": "display_data"
    }
   ],
   "source": [
    "plot_confusion_matrix(dt_ros, X_test, y_test, display_labels=labels)\n",
    "plt.title('Random Oversampling')\n",
    "plt.show()"
   ]
  },
  {
   "cell_type": "code",
   "execution_count": 48,
   "metadata": {},
   "outputs": [
    {
     "name": "stderr",
     "output_type": "stream",
     "text": [
      "/Users/zhangxueqing/opt/anaconda3/lib/python3.9/site-packages/sklearn/utils/deprecation.py:87: FutureWarning: Function plot_confusion_matrix is deprecated; Function `plot_confusion_matrix` is deprecated in 1.0 and will be removed in 1.2. Use one of the class methods: ConfusionMatrixDisplay.from_predictions or ConfusionMatrixDisplay.from_estimator.\n",
      "  warnings.warn(msg, category=FutureWarning)\n"
     ]
    },
    {
     "data": {
      "image/png": "[encoded data removed]",
      "text/plain": [
       "<Figure size 432x288 with 2 Axes>"
      ]
     },
     "metadata": {
      "needs_background": "light"
     },
     "output_type": "display_data"
    }
   ],
   "source": [
    "plot_confusion_matrix(dt_smote, X_test, y_test, display_labels=labels)\n",
    "plt.title('SMOTE')\n",
    "plt.show()"
   ]
  },
  {
   "cell_type": "code",
   "execution_count": 49,
   "metadata": {},
   "outputs": [
    {
     "name": "stderr",
     "output_type": "stream",
     "text": [
      "/Users/zhangxueqing/opt/anaconda3/lib/python3.9/site-packages/sklearn/utils/deprecation.py:87: FutureWarning: Function plot_confusion_matrix is deprecated; Function `plot_confusion_matrix` is deprecated in 1.0 and will be removed in 1.2. Use one of the class methods: ConfusionMatrixDisplay.from_predictions or ConfusionMatrixDisplay.from_estimator.\n",
      "  warnings.warn(msg, category=FutureWarning)\n"
     ]
    },
    {
     "data": {
      "image/png": "[encoded data removed]",
      "text/plain": [
       "<Figure size 432x288 with 2 Axes>"
      ]
     },
     "metadata": {
      "needs_background": "light"
     },
     "output_type": "display_data"
    }
   ],
   "source": [
    "plot_confusion_matrix(bw, X_test, y_test, display_labels=labels)\n",
    "plt.title(\"Balanced Weight\")\n",
    "plt.show()  "
   ]
  },
  {
   "cell_type": "code",
   "execution_count": 51,
   "metadata": {},
   "outputs": [],
   "source": [
    "# comments: before using the sampling methods, the default model is likely to assign nearly all points as negative.\n",
    "# this is because of the data imbalances. Among the 4 sampling methods, random undersampling assigns more predicted\n",
    "# value as positive compared with the other 3."
   ]
  },
  {
   "cell_type": "markdown",
   "metadata": {
    "id": "OqgVbbL0OwOh"
   },
   "source": [
    "**1.4.3 Plot ROC for all the five models on the test set in a single plot. Make sure you label axes and legend properly. Comment on your results and share your observations in detail**<br>\n",
    "(Five models include models from - Default Baseline, Random Undersampling, Random Oversampling, SMOTE & Balanced Weight)"
   ]
  },
  {
   "cell_type": "code",
   "execution_count": 50,
   "metadata": {
    "id": "XFCEYAWt7d74"
   },
   "outputs": [
    {
     "data": {
      "text/plain": [
       "<matplotlib.legend.Legend at 0x7fce59cb0880>"
      ]
     },
     "execution_count": 50,
     "metadata": {},
     "output_type": "execute_result"
    },
    {
     "data": {
      "image/png": "[encoded data removed]",
      "text/plain": [
       "<Figure size 1296x1296 with 1 Axes>"
      ]
     },
     "metadata": {
      "needs_background": "light"
     },
     "output_type": "display_data"
    }
   ],
   "source": [
    "# Your Code Here\n",
    "\n",
    "plt.figure(figsize=(18,18))\n",
    "plt.plot(fpr_db, tpr_db, label='Default Baseline')\n",
    "plt.plot(fpr_us, tpr_us, label='Random Undersampling')\n",
    "plt.plot(fpr_ros, tpr_ros, label='Random Oversampling')\n",
    "plt.plot(fpr_smote, tpr_smote, label='SMOTE')\n",
    "plt.plot(fpr_bw, tpr_bw, label='Balanced Weight')\n",
    "plt.xlabel('FPR')\n",
    "plt.ylabel('TPR')\n",
    "plt.plot([0, 1], [0, 1], linestyle=':')\n",
    "plt.title('ROC')\n",
    "plt.legend()"
   ]
  },
  {
   "cell_type": "code",
   "execution_count": null,
   "metadata": {},
   "outputs": [],
   "source": [
    "# According to the graph, we can see that the random undersampling model has the highest AUC, meaning that \n",
    "# it is more stable in response to changes of threshold. The other 4 models are quite close in their AUC."
   ]
  }
 ],
 "metadata": {
  "colab": {
   "provenance": []
  },
  "kernelspec": {
   "display_name": "Python 3 (ipykernel)",
   "language": "python",
   "name": "python3"
  },
  "language_info": {
   "codemirror_mode": {
    "name": "ipython",
    "version": 3
   },
   "file_extension": ".py",
   "mimetype": "text/x-python",
   "name": "python",
   "nbconvert_exporter": "python",
   "pygments_lexer": "ipython3",
   "version": "3.9.12"
  }
 },
 "nbformat": 4,
 "nbformat_minor": 1
}
